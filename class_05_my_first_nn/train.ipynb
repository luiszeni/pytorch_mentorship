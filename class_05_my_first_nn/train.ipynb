{
 "cells": [
  {
   "cell_type": "code",
   "execution_count": 6,
   "metadata": {},
   "outputs": [],
   "source": [
    "import torch\n",
    "from tqdm import tqdm\n",
    "from heart_desease_dataset import HeartDeseaseDataset\n",
    "from mp_model import MPModel"
   ]
  },
  {
   "cell_type": "code",
   "execution_count": 7,
   "metadata": {},
   "outputs": [
    {
     "name": "stderr",
     "output_type": "stream",
     "text": [
      "Epoch: 99, it 56, loss: 0.0000: 100%|██████████| 57/57 [06:23<00:00,  6.73s/it] \n",
      "Epoch: 0, it 56, loss: 1.1398: 100%|██████████| 57/57 [00:00<00:00, 145.86it/s]\n",
      "Epoch: 1, it 56, loss: 1.8585: 100%|██████████| 57/57 [00:00<00:00, 145.71it/s]\n",
      "Epoch: 2, it 56, loss: 0.0406: 100%|██████████| 57/57 [00:00<00:00, 162.76it/s]\n",
      "Epoch: 3, it 56, loss: 0.5942: 100%|██████████| 57/57 [00:00<00:00, 133.66it/s]\n",
      "Epoch: 4, it 56, loss: 0.5010: 100%|██████████| 57/57 [00:00<00:00, 155.00it/s]\n",
      "Epoch: 5, it 56, loss: 0.0051: 100%|██████████| 57/57 [00:00<00:00, 144.67it/s]\n",
      "Epoch: 6, it 56, loss: 0.1163: 100%|██████████| 57/57 [00:00<00:00, 157.77it/s]\n",
      "Epoch: 7, it 56, loss: 0.2040: 100%|██████████| 57/57 [00:00<00:00, 145.44it/s]\n",
      "Epoch: 8, it 56, loss: 0.1957: 100%|██████████| 57/57 [00:00<00:00, 168.42it/s]\n",
      "Epoch: 9, it 56, loss: 0.0355: 100%|██████████| 57/57 [00:00<00:00, 131.21it/s]\n",
      "Epoch: 10, it 56, loss: 0.1265: 100%|██████████| 57/57 [00:00<00:00, 154.72it/s]\n",
      "Epoch: 11, it 56, loss: 0.0404: 100%|██████████| 57/57 [00:00<00:00, 145.80it/s]\n",
      "Epoch: 12, it 56, loss: 0.1368: 100%|██████████| 57/57 [00:00<00:00, 145.19it/s]\n",
      "Epoch: 13, it 56, loss: 0.0540: 100%|██████████| 57/57 [00:00<00:00, 136.03it/s]\n",
      "Epoch: 14, it 56, loss: 0.0615: 100%|██████████| 57/57 [00:00<00:00, 152.58it/s]\n",
      "Epoch: 15, it 56, loss: 0.0001: 100%|██████████| 57/57 [00:00<00:00, 141.77it/s]\n",
      "Epoch: 16, it 56, loss: 0.1106: 100%|██████████| 57/57 [00:00<00:00, 164.21it/s]\n",
      "Epoch: 17, it 56, loss: 0.2691: 100%|██████████| 57/57 [00:00<00:00, 145.35it/s]\n",
      "Epoch: 18, it 56, loss: 0.0000: 100%|██████████| 57/57 [00:00<00:00, 170.63it/s]\n",
      "Epoch: 19, it 56, loss: 0.2179: 100%|██████████| 57/57 [00:00<00:00, 141.24it/s]\n",
      "Epoch: 20, it 56, loss: 0.1198: 100%|██████████| 57/57 [00:00<00:00, 161.39it/s]\n",
      "Epoch: 21, it 56, loss: 0.1246: 100%|██████████| 57/57 [00:00<00:00, 144.85it/s]\n",
      "Epoch: 22, it 56, loss: 0.4923: 100%|██████████| 57/57 [00:00<00:00, 150.44it/s]\n",
      "Epoch: 23, it 56, loss: 0.0311: 100%|██████████| 57/57 [00:00<00:00, 136.40it/s]\n",
      "Epoch: 24, it 56, loss: 0.4612: 100%|██████████| 57/57 [00:00<00:00, 150.99it/s]\n",
      "Epoch: 25, it 56, loss: 0.3930: 100%|██████████| 57/57 [00:00<00:00, 145.63it/s]\n",
      "Epoch: 26, it 56, loss: 0.0007: 100%|██████████| 57/57 [00:00<00:00, 158.03it/s]\n",
      "Epoch: 27, it 56, loss: 0.0036: 100%|██████████| 57/57 [00:00<00:00, 141.89it/s]\n",
      "Epoch: 28, it 56, loss: 0.0130: 100%|██████████| 57/57 [00:00<00:00, 150.72it/s]\n",
      "Epoch: 29, it 56, loss: 0.0363: 100%|██████████| 57/57 [00:00<00:00, 143.56it/s]\n",
      "Epoch: 30, it 56, loss: 0.0002: 100%|██████████| 57/57 [00:00<00:00, 167.04it/s]\n",
      "Epoch: 31, it 56, loss: 0.0010: 100%|██████████| 57/57 [00:00<00:00, 137.44it/s]\n",
      "Epoch: 32, it 56, loss: 0.0615: 100%|██████████| 57/57 [00:00<00:00, 163.53it/s]\n",
      "Epoch: 33, it 56, loss: 0.0142: 100%|██████████| 57/57 [00:00<00:00, 143.11it/s]\n",
      "Epoch: 34, it 56, loss: 0.0393: 100%|██████████| 57/57 [00:00<00:00, 150.89it/s]\n",
      "Epoch: 35, it 56, loss: 0.0001: 100%|██████████| 57/57 [00:00<00:00, 141.61it/s]\n",
      "Epoch: 36, it 56, loss: 0.1465: 100%|██████████| 57/57 [00:00<00:00, 157.84it/s]\n",
      "Epoch: 37, it 56, loss: 0.1750: 100%|██████████| 57/57 [00:00<00:00, 133.47it/s]\n",
      "Epoch: 38, it 56, loss: 0.0032: 100%|██████████| 57/57 [00:00<00:00, 158.28it/s]\n",
      "Epoch: 39, it 56, loss: 0.0669: 100%|██████████| 57/57 [00:00<00:00, 140.29it/s]\n",
      "Epoch: 40, it 56, loss: 0.0022: 100%|██████████| 57/57 [00:00<00:00, 161.86it/s]\n",
      "Epoch: 41, it 56, loss: 0.0096: 100%|██████████| 57/57 [00:00<00:00, 155.06it/s]\n",
      "Epoch: 42, it 56, loss: 0.0904: 100%|██████████| 57/57 [00:00<00:00, 144.05it/s]\n",
      "Epoch: 43, it 56, loss: 0.3878: 100%|██████████| 57/57 [00:00<00:00, 114.08it/s]\n",
      "Epoch: 44, it 56, loss: 0.2233: 100%|██████████| 57/57 [00:00<00:00, 140.04it/s]\n",
      "Epoch: 45, it 56, loss: 0.2310: 100%|██████████| 57/57 [00:00<00:00, 137.18it/s]\n"
     ]
    }
   ],
   "source": [
    "dataset_train = HeartDeseaseDataset('dataset', train=True)\n",
    "train_data_loader = torch.utils.data.DataLoader(dataset_train, batch_size=8, shuffle=True, num_workers=4)\n",
    "\n",
    "device = 'cpu' if torch.cuda.is_available() else 'cpu'\n",
    "\n",
    "model = MPModel(in_size=30, n_classes=2)\n",
    "model.to(device)\n",
    "model.train()\n",
    "\n",
    "criterion = torch.nn.CrossEntropyLoss()\n",
    "optimizer = torch.optim.Adam(model.parameters(), lr=0.01) \n",
    "\n",
    "total_epochs = 100\n",
    "\n",
    "for epoch in range(total_epochs):\n",
    "    it_pbar = tqdm(enumerate(train_data_loader), desc='', total=len(train_data_loader))\n",
    "    for idx, batch in enumerate(train_data_loader):\n",
    "        \n",
    "        optimizer.zero_grad()  \n",
    "        \n",
    "        x, y = batch\n",
    "\n",
    "        x = x.to(device)\n",
    "        y = y.to(device)\n",
    "\n",
    "        y_pred = model(x)\n",
    "\n",
    "        loss = criterion(y_pred, y)\n",
    "\n",
    "        loss.backward()\n",
    "\n",
    "        optimizer.step()\n",
    "\n",
    "        it_pbar.set_description(f'Epoch: {epoch}, it {idx}, loss: {loss.item():2.4f}')\n",
    "        it_pbar.update(1)"
   ]
  },
  {
   "cell_type": "code",
   "execution_count": null,
   "metadata": {},
   "outputs": [],
   "source": [
    "test_dataset    = HeartDeseaseDataset('dataset', train=False)\n",
    "test_dataloader = torch.utils.data.DataLoader(test_dataset, batch_size=8, shuffle=True, num_workers=2)\n",
    "\n",
    "model.eval()\n",
    "\n",
    "corret_samples = 0\n",
    "for batch in tqdm(test_dataloader):\n",
    "    x, y = batch\n",
    "\n",
    "    x = x.to(device)\n",
    "    y = y.to(device)\n",
    "    with torch.no_grad():\n",
    "        y_hat = model(x)\n",
    "\n",
    "    corret_samples += y_hat.argmax(dim=1).eq(y).sum()\n",
    "\n",
    "print(f'Final Acurancy on test set is: {corret_samples/len(test_dataset)*100}%' )\n"
   ]
  },
  {
   "cell_type": "code",
   "execution_count": null,
   "metadata": {},
   "outputs": [],
   "source": []
  }
 ],
 "metadata": {
  "kernelspec": {
   "display_name": ".venv",
   "language": "python",
   "name": "python3"
  },
  "language_info": {
   "codemirror_mode": {
    "name": "ipython",
    "version": 3
   },
   "file_extension": ".py",
   "mimetype": "text/x-python",
   "name": "python",
   "nbconvert_exporter": "python",
   "pygments_lexer": "ipython3",
   "version": "3.8.10"
  }
 },
 "nbformat": 4,
 "nbformat_minor": 2
}
