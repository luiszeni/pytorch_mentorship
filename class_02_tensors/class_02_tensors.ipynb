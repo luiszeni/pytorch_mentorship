{
 "cells": [
  {
   "cell_type": "markdown",
   "metadata": {},
   "source": [
    "# TORCH.TENSOR\n",
    "(more info https://pytorch.org/docs/stable/tensors.html#torch.Tensor)\n",
    "\n",
    "A torch.Tensor is a multi-dimensional matrix containing elements of a single data type. The tensor is one of the most important data structures in PyTorch because it represent all the parts of our models and data. Such as the model weights ($w$), biases ($b$), input ($x$), ground truth ($y$), etc.\n",
    "\n",
    "In this class we will learn some basic operations with tensors:\n",
    "\n",
    "- Creating Tensors\n",
    "- Tensor Properties and Attributes\n",
    "- Device Placement\n",
    "- Conversion to/from NumPy\n",
    "- Basic Operations\n",
    "- Indexing and Slicing\n",
    "- Reshaping Tensors\n",
    "- Reduction Operations\n",
    "- Matrix Operations\n",
    "- Concatenation and Stacking"
   ]
  },
  {
   "cell_type": "markdown",
   "metadata": {},
   "source": [
    "### - - Needed imports - - \n",
    "\n",
    "use  **pip install lightning**  to install the dependences"
   ]
  },
  {
   "cell_type": "code",
   "execution_count": 1,
   "metadata": {},
   "outputs": [],
   "source": [
    "import torch \n",
    "import numpy as np"
   ]
  },
  {
   "cell_type": "markdown",
   "metadata": {},
   "source": [
    "### **__Step 1__:** Creating Tensors"
   ]
  },
  {
   "cell_type": "markdown",
   "metadata": {},
   "source": [
    "##### Creating a tensor from a python list"
   ]
  },
  {
   "cell_type": "code",
   "execution_count": 2,
   "metadata": {},
   "outputs": [
    {
     "data": {
      "text/plain": [
       "tensor([1, 2, 3])"
      ]
     },
     "execution_count": 2,
     "metadata": {},
     "output_type": "execute_result"
    }
   ],
   "source": [
    "data_list = [1, 2, 3]\n",
    "tensor_from_list = torch.tensor(data_list)\n",
    "\n",
    "\n",
    "tensor_from_list"
   ]
  },
  {
   "cell_type": "markdown",
   "metadata": {},
   "source": [
    "Getting the tensor back as a list"
   ]
  },
  {
   "cell_type": "code",
   "execution_count": 3,
   "metadata": {},
   "outputs": [
    {
     "data": {
      "text/plain": [
       "[1, 2, 3]"
      ]
     },
     "execution_count": 3,
     "metadata": {},
     "output_type": "execute_result"
    }
   ],
   "source": [
    "tensor_from_list.tolist()"
   ]
  },
  {
   "cell_type": "markdown",
   "metadata": {},
   "source": [
    "##### Creating a tensor from a NumPy array"
   ]
  },
  {
   "cell_type": "code",
   "execution_count": 4,
   "metadata": {},
   "outputs": [
    {
     "data": {
      "text/plain": [
       "tensor([4., 5., 6.], dtype=torch.float64)"
      ]
     },
     "execution_count": 4,
     "metadata": {},
     "output_type": "execute_result"
    }
   ],
   "source": [
    "data_numpy = np.array([4.0, 5.0, 6.0])\n",
    "tensor_from_numpy = torch.tensor(data_numpy)\n",
    "\n",
    "\n",
    "tensor_from_numpy"
   ]
  },
  {
   "cell_type": "markdown",
   "metadata": {},
   "source": [
    "##### Creating a tensor of zeros and ones with specified shape"
   ]
  },
  {
   "cell_type": "code",
   "execution_count": 5,
   "metadata": {},
   "outputs": [
    {
     "name": "stdout",
     "output_type": "stream",
     "text": [
      "Zeros tensor:\n",
      " tensor([[0., 0., 0.],\n",
      "        [0., 0., 0.]])\n",
      "Ones tensor:\n",
      " tensor([[[[1., 1., 1., 1., 1.],\n",
      "          [1., 1., 1., 1., 1.],\n",
      "          [1., 1., 1., 1., 1.]],\n",
      "\n",
      "         [[1., 1., 1., 1., 1.],\n",
      "          [1., 1., 1., 1., 1.],\n",
      "          [1., 1., 1., 1., 1.]]],\n",
      "\n",
      "\n",
      "        [[[1., 1., 1., 1., 1.],\n",
      "          [1., 1., 1., 1., 1.],\n",
      "          [1., 1., 1., 1., 1.]],\n",
      "\n",
      "         [[1., 1., 1., 1., 1.],\n",
      "          [1., 1., 1., 1., 1.],\n",
      "          [1., 1., 1., 1., 1.]]],\n",
      "\n",
      "\n",
      "        [[[1., 1., 1., 1., 1.],\n",
      "          [1., 1., 1., 1., 1.],\n",
      "          [1., 1., 1., 1., 1.]],\n",
      "\n",
      "         [[1., 1., 1., 1., 1.],\n",
      "          [1., 1., 1., 1., 1.],\n",
      "          [1., 1., 1., 1., 1.]]],\n",
      "\n",
      "\n",
      "        [[[1., 1., 1., 1., 1.],\n",
      "          [1., 1., 1., 1., 1.],\n",
      "          [1., 1., 1., 1., 1.]],\n",
      "\n",
      "         [[1., 1., 1., 1., 1.],\n",
      "          [1., 1., 1., 1., 1.],\n",
      "          [1., 1., 1., 1., 1.]]]])\n"
     ]
    }
   ],
   "source": [
    "zeros_tensor = torch.zeros(2, 3)  # 2 rows, 3 columns\n",
    "ones_tensor = torch.ones((4, 2, 3, 5))   # 3 rows, 2 columns\n",
    "\n",
    "print(\"Zeros tensor:\\n\", zeros_tensor)\n",
    "print(\"Ones tensor:\\n\", ones_tensor)"
   ]
  },
  {
   "cell_type": "markdown",
   "metadata": {},
   "source": [
    "##### Creating a tensor with random values between 0 and 1"
   ]
  },
  {
   "cell_type": "code",
   "execution_count": 6,
   "metadata": {},
   "outputs": [
    {
     "data": {
      "text/plain": [
       "tensor([[0.2132, 0.9655, 0.0709],\n",
       "        [0.7331, 0.8785, 0.8298],\n",
       "        [0.2293, 0.2478, 0.0179]])"
      ]
     },
     "execution_count": 6,
     "metadata": {},
     "output_type": "execute_result"
    }
   ],
   "source": [
    "random_tensor = torch.rand(3, 3)  # 3 rows, 3 columns\n",
    "\n",
    "\n",
    "random_tensor"
   ]
  },
  {
   "cell_type": "markdown",
   "metadata": {},
   "source": [
    "\n",
    "##### Creating tensors with specific data types and on GPU"
   ]
  },
  {
   "cell_type": "code",
   "execution_count": 7,
   "metadata": {},
   "outputs": [
    {
     "name": "stdout",
     "output_type": "stream",
     "text": [
      "Integer tensor: tensor([1, 2, 3], dtype=torch.int32)\n",
      "Float tensor: tensor([1., 2., 3.])\n",
      "CUDA tensor: tensor([1, 2, 3], device='cuda:0')\n"
     ]
    }
   ],
   "source": [
    "\n",
    "# Creating tensors with specific data types (by default it creates the tensor in the CPU memory)\n",
    "int_tensor = torch.tensor([1, 2, 3], dtype=torch.int)\n",
    "float_tensor = torch.tensor([1.0, 2.0, 3.0], dtype=torch.float)\n",
    "\n",
    "# Creating tensors on GPU\n",
    "cuda_tensor = torch.tensor([1, 2, 3], device='cuda')\n",
    "\n",
    "print(\"Integer tensor:\", int_tensor)\n",
    "print(\"Float tensor:\", float_tensor)\n",
    "print(\"CUDA tensor:\", cuda_tensor)"
   ]
  },
  {
   "cell_type": "markdown",
   "metadata": {},
   "source": [
    "### **Step 2:** Placing a Tensor in diferent devices"
   ]
  },
  {
   "cell_type": "markdown",
   "metadata": {},
   "source": [
    "##### Moving a tensor to GPU (if available)"
   ]
  },
  {
   "cell_type": "code",
   "execution_count": 8,
   "metadata": {},
   "outputs": [
    {
     "name": "stdout",
     "output_type": "stream",
     "text": [
      "Tensor on GPU: tensor([1., 2., 3.], device='cuda:0')\n",
      "Tensor on CPU again: tensor([1., 2., 3.])\n"
     ]
    }
   ],
   "source": [
    "# Creating a tensor on CPU\n",
    "cpu_tensor = torch.tensor([1.0, 2.0, 3.0])\n",
    "\n",
    "if torch.cuda.is_available():\n",
    "    gpu_tensor = cpu_tensor.to('cuda')\n",
    "    print(\"Tensor on GPU:\", gpu_tensor)\n",
    "else:\n",
    "    print(\"GPU not available.\")\n",
    "\n",
    "cpu_again = gpu_tensor.to('cpu')\n",
    "print(\"Tensor on CPU again:\", cpu_again)"
   ]
  },
  {
   "cell_type": "markdown",
   "metadata": {},
   "source": [
    "##### We can also use .cpu() and .cuda() "
   ]
  },
  {
   "cell_type": "code",
   "execution_count": 9,
   "metadata": {},
   "outputs": [
    {
     "name": "stdout",
     "output_type": "stream",
     "text": [
      "Tensor on GPU: tensor([1., 2., 3.], device='cuda:0')\n",
      "Tensor on CPU again: tensor([1., 2., 3.])\n"
     ]
    }
   ],
   "source": [
    "# Creating a tensor on CPU\n",
    "cpu_tensor = torch.tensor([1.0, 2.0, 3.0])\n",
    "\n",
    "if torch.cuda.is_available():\n",
    "    gpu_tensor = cpu_tensor.cuda()\n",
    "    print(\"Tensor on GPU:\", gpu_tensor)\n",
    "else:\n",
    "    print(\"GPU not available.\")\n",
    "\n",
    "cpu_again = gpu_tensor.cpu()\n",
    "print(\"Tensor on CPU again:\", cpu_again)"
   ]
  },
  {
   "cell_type": "markdown",
   "metadata": {},
   "source": [
    "### **Step 3:** Tensor Properties and Attributes"
   ]
  },
  {
   "cell_type": "code",
   "execution_count": 10,
   "metadata": {},
   "outputs": [
    {
     "name": "stdout",
     "output_type": "stream",
     "text": [
      "Tensor Properties:\n",
      "- Shape: torch.Size([2, 3])\n",
      "- Data Type: torch.int64\n",
      "- Device: cpu\n",
      "- Number of Dimensions (Rank): 2\n"
     ]
    }
   ],
   "source": [
    "# Creating a tensor\n",
    "tensor = torch.tensor([[1, 2, 3],\n",
    "                       [4, 5, 6]])\n",
    "\n",
    "print(\"Tensor Properties:\")\n",
    "print(\"- Shape:\", tensor.shape) # gets a list with each dimension size in the tensor\n",
    "print(\"- Data Type:\", tensor.dtype) # gets the type of the tensor \n",
    "print(\"- Device:\", tensor.device) # gets the device where the tensor is placed\n",
    "print(\"- Number of Dimensions (Rank):\", tensor.ndim) # gets the number of dimenssions of the tensor"
   ]
  },
  {
   "cell_type": "markdown",
   "metadata": {},
   "source": [
    "### **Step 4:** Conversion to/from NumPy"
   ]
  },
  {
   "cell_type": "markdown",
   "metadata": {},
   "source": [
    "##### Converting tensors to NumPy arrays"
   ]
  },
  {
   "cell_type": "code",
   "execution_count": 11,
   "metadata": {},
   "outputs": [
    {
     "name": "stdout",
     "output_type": "stream",
     "text": [
      "Tensor to NumPy:\n",
      "Original Tensor: tensor([1., 2., 3.])\n",
      "Converted NumPy Array: [1. 2. 3.]\n"
     ]
    }
   ],
   "source": [
    "tensor = torch.tensor([1.0, 2.0, 3.0])\n",
    "numpy_array = tensor.numpy()\n",
    "\n",
    "print(\"Tensor to NumPy:\")\n",
    "print(\"Original Tensor:\", tensor)\n",
    "print(\"Converted NumPy Array:\", numpy_array)"
   ]
  },
  {
   "cell_type": "markdown",
   "metadata": {},
   "source": [
    "##### Converting NumPy arrays to tensors"
   ]
  },
  {
   "cell_type": "code",
   "execution_count": 12,
   "metadata": {},
   "outputs": [
    {
     "name": "stdout",
     "output_type": "stream",
     "text": [
      "NumPy to Tensor:\n",
      "Original NumPy Array: [4. 5. 6.]\n",
      "Converted Tensor: tensor([4., 5., 6.], dtype=torch.float64)\n"
     ]
    }
   ],
   "source": [
    "\n",
    "numpy_arr = np.array([4.0, 5.0, 6.0])\n",
    "tensor_from_numpy = torch.from_numpy(numpy_arr)\n",
    "\n",
    "print(\"NumPy to Tensor:\")\n",
    "print(\"Original NumPy Array:\", numpy_arr)\n",
    "print(\"Converted Tensor:\", tensor_from_numpy)"
   ]
  },
  {
   "cell_type": "markdown",
   "metadata": {},
   "source": [
    "### **Step 5:** Basic Operations"
   ]
  },
  {
   "cell_type": "code",
   "execution_count": 13,
   "metadata": {},
   "outputs": [],
   "source": [
    "# Creating example tensors\n",
    "tensor1 = torch.tensor([[1, 2, 3],\n",
    "                        [4, 5, 6]])\n",
    "\n",
    "tensor2 = torch.tensor([[2, 3, 4],\n",
    "                        [5, 6, 7]])"
   ]
  },
  {
   "cell_type": "markdown",
   "metadata": {},
   "source": [
    "##### Basic element-wise operations"
   ]
  },
  {
   "cell_type": "code",
   "execution_count": 14,
   "metadata": {},
   "outputs": [
    {
     "name": "stdout",
     "output_type": "stream",
     "text": [
      "Basic Element-Wise Operations:\n",
      "- Addition:\n",
      " tensor([[ 3,  5,  7],\n",
      "        [ 9, 11, 13]])\n",
      "- Subtraction:\n",
      " tensor([[-1, -1, -1],\n",
      "        [-1, -1, -1]])\n",
      "- Multiplication:\n",
      " tensor([[ 2,  6, 12],\n",
      "        [20, 30, 42]])\n",
      "- Division:\n",
      " tensor([[0.5000, 0.6667, 0.7500],\n",
      "        [0.8000, 0.8333, 0.8571]])\n"
     ]
    }
   ],
   "source": [
    "print(\"Basic Element-Wise Operations:\")\n",
    "print(\"- Addition:\\n\", tensor1 + tensor2)\n",
    "print(\"- Subtraction:\\n\", tensor1 - tensor2)\n",
    "print(\"- Multiplication:\\n\", tensor1 * tensor2)\n",
    "print(\"- Division:\\n\", tensor1 / tensor2)"
   ]
  },
  {
   "cell_type": "markdown",
   "metadata": {},
   "source": [
    "##### Broadcasting for element-wise operations"
   ]
  },
  {
   "cell_type": "code",
   "execution_count": 15,
   "metadata": {},
   "outputs": [
    {
     "name": "stdout",
     "output_type": "stream",
     "text": [
      "Broadcasting:\n",
      "Adding scalar to tensor:\n",
      " tensor([[10, 20, 30],\n",
      "        [40, 50, 60]])\n"
     ]
    }
   ],
   "source": [
    "print(\"Broadcasting:\")\n",
    "scalar = 10\n",
    "result = tensor1 * scalar\n",
    "print(\"Adding scalar to tensor:\\n\", result)"
   ]
  },
  {
   "cell_type": "markdown",
   "metadata": {},
   "source": [
    "##### Introducing common mathematical functions"
   ]
  },
  {
   "cell_type": "code",
   "execution_count": 16,
   "metadata": {},
   "outputs": [
    {
     "name": "stdout",
     "output_type": "stream",
     "text": [
      "Common Mathematical Functions:\n",
      "- Exponential:\n",
      " tensor([[  2.7183,   7.3891,  20.0855],\n",
      "        [ 54.5981, 148.4132, 403.4288]])\n",
      "- Square Root:\n",
      " tensor([[1.4142, 1.7321, 2.0000],\n",
      "        [2.2361, 2.4495, 2.6458]])\n"
     ]
    }
   ],
   "source": [
    "print(\"Common Mathematical Functions:\")\n",
    "exponential = torch.exp(tensor1)\n",
    "square_root = torch.sqrt(tensor2)\n",
    "print(\"- Exponential:\\n\", exponential)\n",
    "print(\"- Square Root:\\n\", square_root)"
   ]
  },
  {
   "cell_type": "markdown",
   "metadata": {},
   "source": [
    "### **Step 6:** Indexing and Slicing"
   ]
  },
  {
   "cell_type": "code",
   "execution_count": 17,
   "metadata": {},
   "outputs": [
    {
     "name": "stdout",
     "output_type": "stream",
     "text": [
      "Indexing and Slicing:\n",
      "- Element at [1, 1]: tensor(5)\n",
      "- First row: tensor([1, 2, 3])\n",
      "- Second column: tensor([2, 5, 8])\n",
      "- Sub-tensor (top-left 2x2):\n",
      " tensor([[5, 6],\n",
      "        [8, 9]])\n",
      "\n",
      "Negative Indices and Strides:\n",
      "- Last element: tensor(8)\n",
      "- Every second row:\n",
      " tensor([[1, 3],\n",
      "        [7, 9]])\n"
     ]
    }
   ],
   "source": [
    "\n",
    "# Creating a tensor\n",
    "tensor = torch.tensor([[1, 2, 3],\n",
    "                       [4, 5, 6],\n",
    "                       [7, 8, 9]])\n",
    "\n",
    "# Indexing and slicing\n",
    "print(\"Indexing and Slicing:\")\n",
    "print(\"- Element at [1, 1]:\", tensor[1, 1])\n",
    "print(\"- First row:\", tensor[0])\n",
    "print(\"- Second column:\", tensor[:, 1])\n",
    "print(\"- Sub-tensor (top-left 2x2):\\n\", tensor[1:3, 1:3])\n",
    "print()\n",
    "\n",
    "# Negative indices and strides\n",
    "print(\"Negative Indices and Strides:\")\n",
    "print(\"- Last element:\", tensor[-1, -2])\n",
    "print(\"- Every second row:\\n\", tensor[::2, ::2])"
   ]
  },
  {
   "cell_type": "markdown",
   "metadata": {},
   "source": [
    "##### **Step 7:** Reshaping Tensors"
   ]
  },
  {
   "cell_type": "code",
   "execution_count": 18,
   "metadata": {},
   "outputs": [
    {
     "data": {
      "text/plain": [
       "tensor([[1, 2, 3],\n",
       "        [4, 5, 6]])"
      ]
     },
     "execution_count": 18,
     "metadata": {},
     "output_type": "execute_result"
    }
   ],
   "source": [
    "tensor = torch.tensor([[1, 2, 3],\n",
    "                       [4, 5, 6]])\n",
    "\n",
    "tensor"
   ]
  },
  {
   "cell_type": "markdown",
   "metadata": {},
   "source": [
    "##### Reshaping with .view()"
   ]
  },
  {
   "cell_type": "code",
   "execution_count": 19,
   "metadata": {},
   "outputs": [
    {
     "name": "stdout",
     "output_type": "stream",
     "text": [
      "Reshaped with .view():\n",
      " tensor([[1, 2],\n",
      "        [3, 4],\n",
      "        [5, 6]])\n"
     ]
    }
   ],
   "source": [
    "reshaped_view = tensor.view(3, 2)\n",
    "print(\"Reshaped with .view():\\n\", reshaped_view)"
   ]
  },
  {
   "cell_type": "markdown",
   "metadata": {},
   "source": [
    "##### Reshaping with .reshape()"
   ]
  },
  {
   "cell_type": "code",
   "execution_count": 20,
   "metadata": {},
   "outputs": [
    {
     "name": "stdout",
     "output_type": "stream",
     "text": [
      "Reshaped with .reshape():\n",
      " tensor([[1, 2, 3, 4, 5, 6]])\n"
     ]
    }
   ],
   "source": [
    "reshaped_reshape = tensor.reshape(1, 6)\n",
    "print(\"Reshaped with .reshape():\\n\", reshaped_reshape)"
   ]
  },
  {
   "cell_type": "markdown",
   "metadata": {},
   "source": [
    "##### using -1 as shape"
   ]
  },
  {
   "cell_type": "code",
   "execution_count": 21,
   "metadata": {},
   "outputs": [
    {
     "name": "stdout",
     "output_type": "stream",
     "text": [
      "Reshaped:\n",
      " tensor([[1, 2],\n",
      "        [3, 4],\n",
      "        [5, 6]])\n"
     ]
    }
   ],
   "source": [
    "reshaped = tensor.view(3, -1)\n",
    "print(\"Reshaped:\\n\", reshaped)\n"
   ]
  },
  {
   "cell_type": "markdown",
   "metadata": {},
   "source": [
    "### **Step 8:** Reduction Operations"
   ]
  },
  {
   "cell_type": "markdown",
   "metadata": {},
   "source": [
    "#### Reduction operations over all dims"
   ]
  },
  {
   "cell_type": "code",
   "execution_count": 22,
   "metadata": {},
   "outputs": [
    {
     "name": "stdout",
     "output_type": "stream",
     "text": [
      "Reduction Operations:\n",
      "- Sum: tensor(21.)\n",
      "- Mean: tensor(3.5000)\n",
      "- Standard Deviation: tensor(1.8708)\n",
      "- Maximum: tensor(6.)\n"
     ]
    }
   ],
   "source": [
    "# Creating a tensor\n",
    "tensor = torch.tensor([[1, 2, 3],\n",
    "                       [4, 5, 6]], \n",
    "                       dtype=torch.float)\n",
    "\n",
    "# Reduction operations\n",
    "print(\"Reduction Operations:\")\n",
    "print(\"- Sum:\", tensor.sum())\n",
    "print(\"- Mean:\", tensor.mean())\n",
    "print(\"- Standard Deviation:\", tensor.float().std())\n",
    "print(\"- Maximum:\", tensor.max())"
   ]
  },
  {
   "cell_type": "markdown",
   "metadata": {},
   "source": [
    "##### Reduction along specific dimensions"
   ]
  },
  {
   "cell_type": "code",
   "execution_count": 23,
   "metadata": {},
   "outputs": [
    {
     "name": "stdout",
     "output_type": "stream",
     "text": [
      "Sum along rows (dim=0):\n",
      " tensor([ 6., 15., 24.])\n",
      "Mean along columns (dim=1):\n",
      " tensor([2., 5., 8.])\n"
     ]
    }
   ],
   "source": [
    "tensor_2d = torch.tensor([[1, 2, 3],\n",
    "                          [4, 5, 6],\n",
    "                          [7, 8, 9]]).float()\n",
    "\n",
    "# Sum along rows (dim=0)\n",
    "sum_along_rows = tensor_2d.sum(dim=1)\n",
    "print(\"Sum along rows (dim=0):\\n\", sum_along_rows)\n",
    "\n",
    "# Mean along columns (dim=1)\n",
    "mean_along_columns = tensor_2d.mean(dim=1)\n",
    "print(\"Mean along columns (dim=1):\\n\", mean_along_columns)"
   ]
  },
  {
   "cell_type": "markdown",
   "metadata": {},
   "source": [
    "### **Step 9:** Matrix Operations"
   ]
  },
  {
   "cell_type": "code",
   "execution_count": 24,
   "metadata": {},
   "outputs": [],
   "source": [
    "# Creating example tensors\n",
    "matrix1 = torch.tensor([[1, 2],\n",
    "                        [3, 4]])\n",
    "\n",
    "matrix2 = torch.tensor([[5, 6],\n",
    "                        [7, 8]])"
   ]
  },
  {
   "cell_type": "markdown",
   "metadata": {},
   "source": [
    "##### Matrix multiplication"
   ]
  },
  {
   "cell_type": "code",
   "execution_count": 25,
   "metadata": {},
   "outputs": [
    {
     "name": "stdout",
     "output_type": "stream",
     "text": [
      "Matrix Multiplication:\n",
      "Matrix Product (torch.mm()):\n",
      " tensor([[19, 22],\n",
      "        [43, 50]])\n"
     ]
    }
   ],
   "source": [
    "print(\"Matrix Multiplication:\")\n",
    "matrix_product = torch.mm(matrix1, matrix2)\n",
    "print(\"Matrix Product (torch.mm()):\\n\", matrix_product)"
   ]
  },
  {
   "cell_type": "markdown",
   "metadata": {},
   "source": [
    "##### Matrix multiplication with torch.matmul()"
   ]
  },
  {
   "cell_type": "code",
   "execution_count": 26,
   "metadata": {},
   "outputs": [
    {
     "name": "stdout",
     "output_type": "stream",
     "text": [
      "Matrix Product (torch.matmul()):\n",
      " tensor([[19, 22],\n",
      "        [43, 50]])\n"
     ]
    }
   ],
   "source": [
    "matrix_product_matmul = torch.matmul(matrix1, matrix2)\n",
    "print(\"Matrix Product (torch.matmul()):\\n\", matrix_product_matmul)"
   ]
  },
  {
   "cell_type": "markdown",
   "metadata": {},
   "source": [
    "##### Matrix multiplication with  @ operator"
   ]
  },
  {
   "cell_type": "code",
   "execution_count": 27,
   "metadata": {},
   "outputs": [
    {
     "name": "stdout",
     "output_type": "stream",
     "text": [
      "Matrix Product with @ operator\n",
      " tensor([[19, 22],\n",
      "        [43, 50]])\n"
     ]
    }
   ],
   "source": [
    "matrix_product_matmul = matrix1 @ matrix2\n",
    "print(\"Matrix Product with @ operator\\n\", matrix_product_matmul)"
   ]
  },
  {
   "cell_type": "markdown",
   "metadata": {},
   "source": [
    "##### Transposition\n"
   ]
  },
  {
   "cell_type": "code",
   "execution_count": 28,
   "metadata": {},
   "outputs": [
    {
     "name": "stdout",
     "output_type": "stream",
     "text": [
      "Transposed Matrix:\n",
      " tensor([[1, 3],\n",
      "        [2, 4]])\n"
     ]
    }
   ],
   "source": [
    "\n",
    "matrix_transpose = matrix1.T\n",
    "print(\"Transposed Matrix:\\n\", matrix_transpose)"
   ]
  },
  {
   "cell_type": "markdown",
   "metadata": {},
   "source": [
    "##### Determinant"
   ]
  },
  {
   "cell_type": "code",
   "execution_count": 29,
   "metadata": {},
   "outputs": [
    {
     "name": "stdout",
     "output_type": "stream",
     "text": [
      "Determinant:\n",
      " tensor(0.)\n"
     ]
    }
   ],
   "source": [
    "\n",
    "matrix3 = torch.tensor([[1, 2, 3],\n",
    "                        [4, 5, 6],\n",
    "                        [7, 8, 9]]).float()\n",
    "determinant = torch.det(matrix3)\n",
    "print(\"Determinant:\\n\", determinant)\n"
   ]
  },
  {
   "cell_type": "markdown",
   "metadata": {},
   "source": [
    "### **Step 10:** Concatenation and Stacking"
   ]
  },
  {
   "cell_type": "code",
   "execution_count": 30,
   "metadata": {},
   "outputs": [],
   "source": [
    "# Creating example tensors\n",
    "tensor1 = torch.tensor([[1, 2],\n",
    "                        [3, 4]])\n",
    "\n",
    "tensor2 = torch.tensor([[5, 6],\n",
    "                        [7, 8]])"
   ]
  },
  {
   "cell_type": "markdown",
   "metadata": {},
   "source": [
    "##### Concatenation using torch.cat()"
   ]
  },
  {
   "cell_type": "code",
   "execution_count": 31,
   "metadata": {},
   "outputs": [
    {
     "name": "stdout",
     "output_type": "stream",
     "text": [
      "Concatenation using torch.cat():\n",
      "Concatenated Rows:\n",
      " tensor([[1, 2],\n",
      "        [3, 4],\n",
      "        [5, 6],\n",
      "        [7, 8]])\n",
      "Concatenated Columns:\n",
      " tensor([[1, 2, 5, 6],\n",
      "        [3, 4, 7, 8]])\n"
     ]
    }
   ],
   "source": [
    "concatenated_rows    = torch.cat((tensor1, tensor2), dim=0)\n",
    "concatenated_columns = torch.cat((tensor1, tensor2), dim=1)\n",
    "\n",
    "print(\"Concatenation using torch.cat():\")\n",
    "print(\"Concatenated Rows:\\n\", concatenated_rows)\n",
    "print(\"Concatenated Columns:\\n\", concatenated_columns)"
   ]
  },
  {
   "cell_type": "markdown",
   "metadata": {},
   "source": [
    "##### Stacking using torch.stack()"
   ]
  },
  {
   "cell_type": "code",
   "execution_count": 32,
   "metadata": {},
   "outputs": [
    {
     "name": "stdout",
     "output_type": "stream",
     "text": [
      "Stacking using torch.stack():\n",
      "Stacked Tensors:\n",
      " tensor([[[1, 2],\n",
      "         [3, 4]],\n",
      "\n",
      "        [[5, 6],\n",
      "         [7, 8]],\n",
      "\n",
      "        [[1, 2],\n",
      "         [3, 4]],\n",
      "\n",
      "        [[5, 6],\n",
      "         [7, 8]]])\n",
      "Stacked Tensors shape:\n",
      " torch.Size([4, 2, 2])\n"
     ]
    }
   ],
   "source": [
    "stacked_tensors = torch.stack((tensor1, tensor2, tensor1, tensor2))\n",
    "\n",
    "print(\"Stacking using torch.stack():\")\n",
    "print(\"Stacked Tensors:\\n\", stacked_tensors)\n",
    "print(\"Stacked Tensors shape:\\n\", stacked_tensors.shape)"
   ]
  },
  {
   "cell_type": "markdown",
   "metadata": {},
   "source": [
    "### **Step 11:** Adding or removing dimenssions to a tensor"
   ]
  },
  {
   "cell_type": "markdown",
   "metadata": {},
   "source": [
    "##### Ading a dimenssion to a tensor with .unsqueeze()"
   ]
  },
  {
   "cell_type": "code",
   "execution_count": 33,
   "metadata": {},
   "outputs": [
    {
     "name": "stdout",
     "output_type": "stream",
     "text": [
      "Tensor size before unsqueeze:\n",
      " torch.Size([2, 2])\n",
      "Tensor after unsqueeze:\n",
      " tensor([[[1, 2]],\n",
      "\n",
      "        [[3, 4]]])\n",
      "Tensor size after unsqueeze:\n",
      " torch.Size([2, 1, 2])\n"
     ]
    }
   ],
   "source": [
    "tensor = torch.tensor([[1, 2],\n",
    "                        [3, 4]])\n",
    "\n",
    "print(\"Tensor size before unsqueeze:\\n\", tensor.shape)\n",
    "\n",
    "tensor = tensor.unsqueeze(1)\n",
    "print(\"Tensor after unsqueeze:\\n\", tensor)\n",
    "print(\"Tensor size after unsqueeze:\\n\", tensor.shape)\n"
   ]
  },
  {
   "cell_type": "markdown",
   "metadata": {},
   "source": [
    "##### Removing dimenssions with size=1 from a tensor with .squeeze()"
   ]
  },
  {
   "cell_type": "code",
   "execution_count": 34,
   "metadata": {},
   "outputs": [
    {
     "name": "stdout",
     "output_type": "stream",
     "text": [
      "Tensor size before squeeze:\n",
      " torch.Size([2, 1, 2])\n",
      "Tensor after unsqueeze:\n",
      " tensor([[1, 2],\n",
      "        [3, 4]])\n",
      "Tensor size after unsqueeze:\n",
      " torch.Size([2, 2])\n"
     ]
    }
   ],
   "source": [
    "print(\"Tensor size before squeeze:\\n\", tensor.shape)\n",
    "tensor = tensor.squeeze()\n",
    "print(\"Tensor after unsqueeze:\\n\", tensor)\n",
    "print(\"Tensor size after unsqueeze:\\n\", tensor.shape)"
   ]
  }
 ],
 "metadata": {
  "kernelspec": {
   "display_name": "Python 3",
   "language": "python",
   "name": "python3"
  },
  "language_info": {
   "codemirror_mode": {
    "name": "ipython",
    "version": 3
   },
   "file_extension": ".py",
   "mimetype": "text/x-python",
   "name": "python",
   "nbconvert_exporter": "python",
   "pygments_lexer": "ipython3",
   "version": "3.8.10"
  }
 },
 "nbformat": 4,
 "nbformat_minor": 2
}
