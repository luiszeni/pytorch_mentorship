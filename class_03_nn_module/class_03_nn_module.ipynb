{
 "cells": [
  {
   "cell_type": "code",
   "execution_count": 40,
   "metadata": {},
   "outputs": [
    {
     "name": "stdout",
     "output_type": "stream",
     "text": [
      "The autoreload extension is already loaded. To reload it, use:\n",
      "  %reload_ext autoreload\n"
     ]
    }
   ],
   "source": [
    "%load_ext autoreload\n",
    "%autoreload 2"
   ]
  },
  {
   "cell_type": "markdown",
   "metadata": {},
   "source": [
    "Este notebook foi construido em aula e não coloquei grande esforço em deixar ele bonitin. \n",
    "\n",
    "Depois de implementar nossa RedeDeSoma, nós podemos importar ela para utilizarmos."
   ]
  },
  {
   "cell_type": "code",
   "execution_count": 41,
   "metadata": {},
   "outputs": [],
   "source": [
    "import torch\n",
    "from meu_primeiro_modulo import RedeDeSoma\n",
    "\n",
    "model = RedeDeSoma()"
   ]
  },
  {
   "cell_type": "markdown",
   "metadata": {},
   "source": [
    "A seguir, podemos ver q nosso modelo tem dois parametros. Sendo um os pesos $w$ e outro o bias $b$"
   ]
  },
  {
   "cell_type": "code",
   "execution_count": 42,
   "metadata": {},
   "outputs": [
    {
     "name": "stdout",
     "output_type": "stream",
     "text": [
      "weight tensor([[-0.4116, -0.5829]])\n",
      "bias tensor([-0.5824])\n"
     ]
    }
   ],
   "source": [
    "for n, p in model.camada_linear.named_parameters():\n",
    "    print(n, p.data)"
   ]
  },
  {
   "cell_type": "markdown",
   "metadata": {},
   "source": [
    "Agora definimos o dispositivo que iremos trabalhar e enviamos o modelo para o mesmo."
   ]
  },
  {
   "cell_type": "code",
   "execution_count": 43,
   "metadata": {},
   "outputs": [],
   "source": [
    "device = 'cuda'\n",
    "model = model.to(device)"
   ]
  },
  {
   "cell_type": "markdown",
   "metadata": {},
   "source": [
    "Agora podemos criar um tensor p/ fazer o primeiro forward de teste. "
   ]
  },
  {
   "cell_type": "code",
   "execution_count": 44,
   "metadata": {},
   "outputs": [
    {
     "data": {
      "text/plain": [
       "tensor([[-6.1378]], device='cuda:0', grad_fn=<AddmmBackward0>)"
      ]
     },
     "execution_count": 44,
     "metadata": {},
     "output_type": "execute_result"
    }
   ],
   "source": [
    "test_input = torch.tensor([[5.0, 6.0]], device=device)\n",
    "model(test_input)"
   ]
  },
  {
   "cell_type": "markdown",
   "metadata": {},
   "source": [
    "Como podemos ver, o resultado de saida do modelo não tem nada a ver. A soma de 5+6 = 11. Mas isto é esperado pois o modelo ainda não foi treinado.\n",
    "\n",
    "\n",
    "A seguir vamos treinar o modelo, não te preocupe com este processo por enquanto, nós iremos visitar cada um destes componentes nas próximas aulas."
   ]
  },
  {
   "cell_type": "code",
   "execution_count": 45,
   "metadata": {},
   "outputs": [],
   "source": [
    "X = torch.tensor([[1.0, 2.0],\n",
    "                  [2.0, 3.0],\n",
    "                  [3.0, 4.0],\n",
    "                  [4.0, 5.0]], device=device)\n",
    "\n",
    "\n",
    "y = torch.tensor([[3.0],\n",
    "                  [5.0],\n",
    "                  [7.0],\n",
    "                  [9.0]], device=device)\n",
    "\n",
    "loss = torch.nn.MSELoss()\n",
    "optimizer = torch.optim.SGD(model.parameters(), lr=0.01) \n",
    "\n",
    "for iter in range(1000):\n",
    "    optimizer.zero_grad()  \n",
    "    y_pred = model(X)\n",
    "    total_loss = loss(y, y_pred)\n",
    "    total_loss.backward()\n",
    "    optimizer.step()"
   ]
  },
  {
   "cell_type": "markdown",
   "metadata": {},
   "source": [
    "Agora ao testar, podemos ver que o resultado esta mto mais próximo do esperado. =)  (com um pequenino erro)"
   ]
  },
  {
   "cell_type": "code",
   "execution_count": 46,
   "metadata": {},
   "outputs": [
    {
     "data": {
      "text/plain": [
       "tensor([[11.0001]], device='cuda:0', grad_fn=<AddmmBackward0>)"
      ]
     },
     "execution_count": 46,
     "metadata": {},
     "output_type": "execute_result"
    }
   ],
   "source": [
    "test_input = torch.tensor([[5.0, 6.0]], device=device)\n",
    "model(test_input)"
   ]
  }
 ],
 "metadata": {
  "kernelspec": {
   "display_name": ".venv",
   "language": "python",
   "name": "python3"
  },
  "language_info": {
   "codemirror_mode": {
    "name": "ipython",
    "version": 3
   },
   "file_extension": ".py",
   "mimetype": "text/x-python",
   "name": "python",
   "nbconvert_exporter": "python",
   "pygments_lexer": "ipython3",
   "version": "3.8.10"
  }
 },
 "nbformat": 4,
 "nbformat_minor": 2
}
